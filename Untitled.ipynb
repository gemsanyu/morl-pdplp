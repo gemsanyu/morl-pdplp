{
 "cells": [
  {
   "cell_type": "code",
   "execution_count": 2,
   "id": "18d8433f",
   "metadata": {},
   "outputs": [],
   "source": [
    "import os\n",
    "import pathlib\n",
    "\n",
    "from model.agent_so import Agent\n",
    "import torch\n",
    "from torch.utils.tensorboard import SummaryWriter\n",
    "\n",
    "from pdptw.pdptw import PDPTW\n",
    "from utils import instance_to_batch\n"
   ]
  },
  {
   "cell_type": "code",
   "execution_count": 5,
   "id": "acfd3068",
   "metadata": {},
   "outputs": [],
   "source": [
    "instance = PDPTW(instance_name=\"bar-n100-1\",num_vehicles=6)"
   ]
  },
  {
   "cell_type": "code",
   "execution_count": 7,
   "id": "628fcf14",
   "metadata": {},
   "outputs": [
    {
     "name": "stdout",
     "output_type": "stream",
     "text": [
      "[[ 0.  2. 14. ... 19. 10. 11.]\n",
      " [ 3.  0. 14. ... 18. 10. 11.]\n",
      " [14. 13.  0. ... 11.  6.  8.]\n",
      " ...\n",
      " [19. 17. 12. ...  0. 14. 18.]\n",
      " [ 9.  8.  7. ... 14.  0.  6.]\n",
      " [11. 10.  8. ... 14.  7.  0.]]\n"
     ]
    }
   ],
   "source": [
    "print(instance.distance_matrix)"
   ]
  },
  {
   "cell_type": "code",
   "execution_count": 12,
   "id": "3cc2ef0e",
   "metadata": {},
   "outputs": [],
   "source": [
    "dm = instance.distance_matrix\n",
    "for i in range(1, instance.num_nodes):\n",
    "    for j in range(instance.num_nodes):\n",
    "        if (i!=j):\n",
    "            if dm[i,0] > dm[i,j] + dm[j,0]:\n",
    "                print(\"yes\")\n",
    "                print(dm[i,0], dm[i,j] + dm[j,0])"
   ]
  }
 ],
 "metadata": {
  "kernelspec": {
   "display_name": "Python 3 (ipykernel)",
   "language": "python",
   "name": "python3"
  },
  "language_info": {
   "codemirror_mode": {
    "name": "ipython",
    "version": 3
   },
   "file_extension": ".py",
   "mimetype": "text/x-python",
   "name": "python",
   "nbconvert_exporter": "python",
   "pygments_lexer": "ipython3",
   "version": "3.8.16"
  }
 },
 "nbformat": 4,
 "nbformat_minor": 5
}
